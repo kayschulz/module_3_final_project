{
 "cells": [
  {
   "cell_type": "code",
   "execution_count": 81,
   "metadata": {},
   "outputs": [],
   "source": [
    "import requests\n",
    "import json\n",
    "import pandas as pd"
   ]
  },
  {
   "cell_type": "code",
   "execution_count": 82,
   "metadata": {},
   "outputs": [
    {
     "name": "stdout",
     "output_type": "stream",
     "text": [
      "CTG.xls            EDA.ipynb          README.md          import_data.ipynb\r\n"
     ]
    }
   ],
   "source": [
    "ls"
   ]
  },
  {
   "cell_type": "code",
   "execution_count": 83,
   "metadata": {},
   "outputs": [],
   "source": [
    "df = pd.read_excel('CTG.xls', sheet_name='Raw Data')"
   ]
  },
  {
   "cell_type": "code",
   "execution_count": 84,
   "metadata": {},
   "outputs": [],
   "source": [
    "df = df.drop(0)\n",
    "df = df[:-3]"
   ]
  },
  {
   "cell_type": "code",
   "execution_count": 85,
   "metadata": {},
   "outputs": [],
   "source": [
    "df.head()\n",
    "df = df.reset_index()\n",
    "df = df.drop('index', axis=1)"
   ]
  },
  {
   "cell_type": "code",
   "execution_count": 86,
   "metadata": {},
   "outputs": [
    {
     "name": "stdout",
     "output_type": "stream",
     "text": [
      "<class 'pandas.core.frame.DataFrame'>\n",
      "RangeIndex: 2126 entries, 0 to 2125\n",
      "Data columns (total 40 columns):\n",
      "FileName    2126 non-null object\n",
      "Date        2126 non-null datetime64[ns]\n",
      "SegFile     2126 non-null object\n",
      "b           2126 non-null float64\n",
      "e           2126 non-null float64\n",
      "LBE         2126 non-null float64\n",
      "LB          2126 non-null float64\n",
      "AC          2126 non-null float64\n",
      "FM          2126 non-null float64\n",
      "UC          2126 non-null float64\n",
      "ASTV        2126 non-null float64\n",
      "MSTV        2126 non-null float64\n",
      "ALTV        2126 non-null float64\n",
      "MLTV        2126 non-null float64\n",
      "DL          2126 non-null float64\n",
      "DS          2126 non-null float64\n",
      "DP          2126 non-null float64\n",
      "DR          2126 non-null float64\n",
      "Width       2126 non-null float64\n",
      "Min         2126 non-null float64\n",
      "Max         2126 non-null float64\n",
      "Nmax        2126 non-null float64\n",
      "Nzeros      2126 non-null float64\n",
      "Mode        2126 non-null float64\n",
      "Mean        2126 non-null float64\n",
      "Median      2126 non-null float64\n",
      "Variance    2126 non-null float64\n",
      "Tendency    2126 non-null float64\n",
      "A           2126 non-null float64\n",
      "B           2126 non-null float64\n",
      "C           2126 non-null float64\n",
      "D           2126 non-null float64\n",
      "E           2126 non-null float64\n",
      "AD          2126 non-null float64\n",
      "DE          2126 non-null float64\n",
      "LD          2126 non-null float64\n",
      "FS          2126 non-null float64\n",
      "SUSP        2126 non-null float64\n",
      "CLASS       2126 non-null float64\n",
      "NSP         2126 non-null float64\n",
      "dtypes: datetime64[ns](1), float64(37), object(2)\n",
      "memory usage: 664.5+ KB\n"
     ]
    }
   ],
   "source": [
    "df.info()"
   ]
  },
  {
   "cell_type": "code",
   "execution_count": 87,
   "metadata": {},
   "outputs": [],
   "source": [
    "df = df.drop(['FileName', 'Date', 'SegFile', 'A', 'B', 'C', 'D', 'AD', 'DE', 'LD', 'FS', 'SUSP', 'E'], axis=1)"
   ]
  },
  {
   "cell_type": "code",
   "execution_count": 88,
   "metadata": {},
   "outputs": [
    {
     "data": {
      "text/html": [
       "<div>\n",
       "<style scoped>\n",
       "    .dataframe tbody tr th:only-of-type {\n",
       "        vertical-align: middle;\n",
       "    }\n",
       "\n",
       "    .dataframe tbody tr th {\n",
       "        vertical-align: top;\n",
       "    }\n",
       "\n",
       "    .dataframe thead th {\n",
       "        text-align: right;\n",
       "    }\n",
       "</style>\n",
       "<table border=\"1\" class=\"dataframe\">\n",
       "  <thead>\n",
       "    <tr style=\"text-align: right;\">\n",
       "      <th></th>\n",
       "      <th>b</th>\n",
       "      <th>e</th>\n",
       "      <th>LBE</th>\n",
       "      <th>LB</th>\n",
       "      <th>AC</th>\n",
       "      <th>FM</th>\n",
       "      <th>UC</th>\n",
       "      <th>ASTV</th>\n",
       "      <th>MSTV</th>\n",
       "      <th>ALTV</th>\n",
       "      <th>...</th>\n",
       "      <th>Max</th>\n",
       "      <th>Nmax</th>\n",
       "      <th>Nzeros</th>\n",
       "      <th>Mode</th>\n",
       "      <th>Mean</th>\n",
       "      <th>Median</th>\n",
       "      <th>Variance</th>\n",
       "      <th>Tendency</th>\n",
       "      <th>CLASS</th>\n",
       "      <th>NSP</th>\n",
       "    </tr>\n",
       "  </thead>\n",
       "  <tbody>\n",
       "    <tr>\n",
       "      <th>0</th>\n",
       "      <td>240.0</td>\n",
       "      <td>357.0</td>\n",
       "      <td>120.0</td>\n",
       "      <td>120.0</td>\n",
       "      <td>0.0</td>\n",
       "      <td>0.0</td>\n",
       "      <td>0.0</td>\n",
       "      <td>73.0</td>\n",
       "      <td>0.5</td>\n",
       "      <td>43.0</td>\n",
       "      <td>...</td>\n",
       "      <td>126.0</td>\n",
       "      <td>2.0</td>\n",
       "      <td>0.0</td>\n",
       "      <td>120.0</td>\n",
       "      <td>137.0</td>\n",
       "      <td>121.0</td>\n",
       "      <td>73.0</td>\n",
       "      <td>1.0</td>\n",
       "      <td>9.0</td>\n",
       "      <td>2.0</td>\n",
       "    </tr>\n",
       "    <tr>\n",
       "      <th>1</th>\n",
       "      <td>5.0</td>\n",
       "      <td>632.0</td>\n",
       "      <td>132.0</td>\n",
       "      <td>132.0</td>\n",
       "      <td>4.0</td>\n",
       "      <td>0.0</td>\n",
       "      <td>4.0</td>\n",
       "      <td>17.0</td>\n",
       "      <td>2.1</td>\n",
       "      <td>0.0</td>\n",
       "      <td>...</td>\n",
       "      <td>198.0</td>\n",
       "      <td>6.0</td>\n",
       "      <td>1.0</td>\n",
       "      <td>141.0</td>\n",
       "      <td>136.0</td>\n",
       "      <td>140.0</td>\n",
       "      <td>12.0</td>\n",
       "      <td>0.0</td>\n",
       "      <td>6.0</td>\n",
       "      <td>1.0</td>\n",
       "    </tr>\n",
       "    <tr>\n",
       "      <th>2</th>\n",
       "      <td>177.0</td>\n",
       "      <td>779.0</td>\n",
       "      <td>133.0</td>\n",
       "      <td>133.0</td>\n",
       "      <td>2.0</td>\n",
       "      <td>0.0</td>\n",
       "      <td>5.0</td>\n",
       "      <td>16.0</td>\n",
       "      <td>2.1</td>\n",
       "      <td>0.0</td>\n",
       "      <td>...</td>\n",
       "      <td>198.0</td>\n",
       "      <td>5.0</td>\n",
       "      <td>1.0</td>\n",
       "      <td>141.0</td>\n",
       "      <td>135.0</td>\n",
       "      <td>138.0</td>\n",
       "      <td>13.0</td>\n",
       "      <td>0.0</td>\n",
       "      <td>6.0</td>\n",
       "      <td>1.0</td>\n",
       "    </tr>\n",
       "    <tr>\n",
       "      <th>3</th>\n",
       "      <td>411.0</td>\n",
       "      <td>1192.0</td>\n",
       "      <td>134.0</td>\n",
       "      <td>134.0</td>\n",
       "      <td>2.0</td>\n",
       "      <td>0.0</td>\n",
       "      <td>6.0</td>\n",
       "      <td>16.0</td>\n",
       "      <td>2.4</td>\n",
       "      <td>0.0</td>\n",
       "      <td>...</td>\n",
       "      <td>170.0</td>\n",
       "      <td>11.0</td>\n",
       "      <td>0.0</td>\n",
       "      <td>137.0</td>\n",
       "      <td>134.0</td>\n",
       "      <td>137.0</td>\n",
       "      <td>13.0</td>\n",
       "      <td>1.0</td>\n",
       "      <td>6.0</td>\n",
       "      <td>1.0</td>\n",
       "    </tr>\n",
       "    <tr>\n",
       "      <th>4</th>\n",
       "      <td>533.0</td>\n",
       "      <td>1147.0</td>\n",
       "      <td>132.0</td>\n",
       "      <td>132.0</td>\n",
       "      <td>4.0</td>\n",
       "      <td>0.0</td>\n",
       "      <td>5.0</td>\n",
       "      <td>16.0</td>\n",
       "      <td>2.4</td>\n",
       "      <td>0.0</td>\n",
       "      <td>...</td>\n",
       "      <td>170.0</td>\n",
       "      <td>9.0</td>\n",
       "      <td>0.0</td>\n",
       "      <td>137.0</td>\n",
       "      <td>136.0</td>\n",
       "      <td>138.0</td>\n",
       "      <td>11.0</td>\n",
       "      <td>1.0</td>\n",
       "      <td>2.0</td>\n",
       "      <td>1.0</td>\n",
       "    </tr>\n",
       "  </tbody>\n",
       "</table>\n",
       "<p>5 rows × 27 columns</p>\n",
       "</div>"
      ],
      "text/plain": [
       "       b       e    LBE     LB   AC   FM   UC  ASTV  MSTV  ALTV ...     Max  \\\n",
       "0  240.0   357.0  120.0  120.0  0.0  0.0  0.0  73.0   0.5  43.0 ...   126.0   \n",
       "1    5.0   632.0  132.0  132.0  4.0  0.0  4.0  17.0   2.1   0.0 ...   198.0   \n",
       "2  177.0   779.0  133.0  133.0  2.0  0.0  5.0  16.0   2.1   0.0 ...   198.0   \n",
       "3  411.0  1192.0  134.0  134.0  2.0  0.0  6.0  16.0   2.4   0.0 ...   170.0   \n",
       "4  533.0  1147.0  132.0  132.0  4.0  0.0  5.0  16.0   2.4   0.0 ...   170.0   \n",
       "\n",
       "   Nmax  Nzeros   Mode   Mean  Median  Variance  Tendency  CLASS  NSP  \n",
       "0   2.0     0.0  120.0  137.0   121.0      73.0       1.0    9.0  2.0  \n",
       "1   6.0     1.0  141.0  136.0   140.0      12.0       0.0    6.0  1.0  \n",
       "2   5.0     1.0  141.0  135.0   138.0      13.0       0.0    6.0  1.0  \n",
       "3  11.0     0.0  137.0  134.0   137.0      13.0       1.0    6.0  1.0  \n",
       "4   9.0     0.0  137.0  136.0   138.0      11.0       1.0    2.0  1.0  \n",
       "\n",
       "[5 rows x 27 columns]"
      ]
     },
     "execution_count": 88,
     "metadata": {},
     "output_type": "execute_result"
    }
   ],
   "source": [
    "df.head()"
   ]
  },
  {
   "cell_type": "code",
   "execution_count": 89,
   "metadata": {},
   "outputs": [],
   "source": [
    "X = df.drop(['CLASS', 'NSP'], axis=1)\n",
    "y = df['NSP']"
   ]
  },
  {
   "cell_type": "code",
   "execution_count": 90,
   "metadata": {},
   "outputs": [
    {
     "data": {
      "image/png": "[encoded data removed]",
      "text/plain": [
       "<Figure size 1080x576 with 25 Axes>"
      ]
     },
     "metadata": {
      "needs_background": "light"
     },
     "output_type": "display_data"
    }
   ],
   "source": [
    "import matplotlib.pyplot as plt\n",
    "%matplotlib inline\n",
    "\n",
    "X.hist(figsize=(15, 8));"
   ]
  },
  {
   "cell_type": "code",
   "execution_count": 91,
   "metadata": {},
   "outputs": [
    {
     "data": {
      "text/plain": [
       "array([ 1.,  0., -1.])"
      ]
     },
     "execution_count": 91,
     "metadata": {},
     "output_type": "execute_result"
    }
   ],
   "source": [
    "X['Tendency'].unique()"
   ]
  },
  {
   "cell_type": "code",
   "execution_count": 92,
   "metadata": {},
   "outputs": [],
   "source": [
    "from sklearn.model_selection import train_test_split\n",
    "X_train, X_test, y_train, y_test = train_test_split(X, y)"
   ]
  },
  {
   "cell_type": "code",
   "execution_count": 93,
   "metadata": {},
   "outputs": [
    {
     "data": {
      "text/plain": [
       "OneHotEncoder(categorical_features=None, categories='auto',\n",
       "       dtype=<class 'numpy.float64'>, handle_unknown='error',\n",
       "       n_values=None, sparse=True)"
      ]
     },
     "execution_count": 93,
     "metadata": {},
     "output_type": "execute_result"
    }
   ],
   "source": [
    "from sklearn.preprocessing import OneHotEncoder\n",
    "enc = OneHotEncoder(categories='auto')\n",
    "enc.fit(X_train[['Tendency']])"
   ]
  },
  {
   "cell_type": "code",
   "execution_count": 94,
   "metadata": {},
   "outputs": [],
   "source": [
    "encoded = enc.transform(X_train[['Tendency']]).toarray()"
   ]
  },
  {
   "cell_type": "code",
   "execution_count": 95,
   "metadata": {},
   "outputs": [
    {
     "data": {
      "text/plain": [
       "[array([-1.,  0.,  1.])]"
      ]
     },
     "execution_count": 95,
     "metadata": {},
     "output_type": "execute_result"
    }
   ],
   "source": [
    "enc.categories_"
   ]
  },
  {
   "cell_type": "code",
   "execution_count": 96,
   "metadata": {},
   "outputs": [
    {
     "data": {
      "text/html": [
       "<div>\n",
       "<style scoped>\n",
       "    .dataframe tbody tr th:only-of-type {\n",
       "        vertical-align: middle;\n",
       "    }\n",
       "\n",
       "    .dataframe tbody tr th {\n",
       "        vertical-align: top;\n",
       "    }\n",
       "\n",
       "    .dataframe thead tr th {\n",
       "        text-align: left;\n",
       "    }\n",
       "</style>\n",
       "<table border=\"1\" class=\"dataframe\">\n",
       "  <thead>\n",
       "    <tr>\n",
       "      <th></th>\n",
       "      <th>-1.0</th>\n",
       "      <th>0.0</th>\n",
       "      <th>1.0</th>\n",
       "    </tr>\n",
       "  </thead>\n",
       "  <tbody>\n",
       "    <tr>\n",
       "      <th>0</th>\n",
       "      <td>0.0</td>\n",
       "      <td>1.0</td>\n",
       "      <td>0.0</td>\n",
       "    </tr>\n",
       "    <tr>\n",
       "      <th>1</th>\n",
       "      <td>0.0</td>\n",
       "      <td>0.0</td>\n",
       "      <td>1.0</td>\n",
       "    </tr>\n",
       "    <tr>\n",
       "      <th>2</th>\n",
       "      <td>1.0</td>\n",
       "      <td>0.0</td>\n",
       "      <td>0.0</td>\n",
       "    </tr>\n",
       "    <tr>\n",
       "      <th>3</th>\n",
       "      <td>0.0</td>\n",
       "      <td>1.0</td>\n",
       "      <td>0.0</td>\n",
       "    </tr>\n",
       "    <tr>\n",
       "      <th>4</th>\n",
       "      <td>0.0</td>\n",
       "      <td>1.0</td>\n",
       "      <td>0.0</td>\n",
       "    </tr>\n",
       "  </tbody>\n",
       "</table>\n",
       "</div>"
      ],
      "text/plain": [
       "  -1.0  0.0  1.0\n",
       "0  0.0  1.0  0.0\n",
       "1  0.0  0.0  1.0\n",
       "2  1.0  0.0  0.0\n",
       "3  0.0  1.0  0.0\n",
       "4  0.0  1.0  0.0"
      ]
     },
     "execution_count": 96,
     "metadata": {},
     "output_type": "execute_result"
    }
   ],
   "source": [
    "one_hotted = pd.DataFrame(encoded, columns=enc.categories_)\n",
    "one_hotted.head()\n"
   ]
  },
  {
   "cell_type": "code",
   "execution_count": 97,
   "metadata": {},
   "outputs": [],
   "source": [
    "X_train = X_train.reset_index()\n",
    "X_train = X_train.drop('index', axis=1)\n",
    "\n",
    "df_full = pd.concat([X_train, one_hotted], axis=1)\n"
   ]
  },
  {
   "cell_type": "code",
   "execution_count": 98,
   "metadata": {},
   "outputs": [
    {
     "data": {
      "text/html": [
       "<div>\n",
       "<style scoped>\n",
       "    .dataframe tbody tr th:only-of-type {\n",
       "        vertical-align: middle;\n",
       "    }\n",
       "\n",
       "    .dataframe tbody tr th {\n",
       "        vertical-align: top;\n",
       "    }\n",
       "\n",
       "    .dataframe thead th {\n",
       "        text-align: right;\n",
       "    }\n",
       "</style>\n",
       "<table border=\"1\" class=\"dataframe\">\n",
       "  <thead>\n",
       "    <tr style=\"text-align: right;\">\n",
       "      <th></th>\n",
       "      <th>b</th>\n",
       "      <th>e</th>\n",
       "      <th>LBE</th>\n",
       "      <th>LB</th>\n",
       "      <th>AC</th>\n",
       "      <th>FM</th>\n",
       "      <th>UC</th>\n",
       "      <th>ASTV</th>\n",
       "      <th>MSTV</th>\n",
       "      <th>ALTV</th>\n",
       "      <th>...</th>\n",
       "      <th>Nmax</th>\n",
       "      <th>Nzeros</th>\n",
       "      <th>Mode</th>\n",
       "      <th>Mean</th>\n",
       "      <th>Median</th>\n",
       "      <th>Variance</th>\n",
       "      <th>Tendency</th>\n",
       "      <th>(-1.0,)</th>\n",
       "      <th>(0.0,)</th>\n",
       "      <th>(1.0,)</th>\n",
       "    </tr>\n",
       "  </thead>\n",
       "  <tbody>\n",
       "    <tr>\n",
       "      <th>0</th>\n",
       "      <td>524.0</td>\n",
       "      <td>1189.0</td>\n",
       "      <td>128.0</td>\n",
       "      <td>128.0</td>\n",
       "      <td>5.0</td>\n",
       "      <td>0.0</td>\n",
       "      <td>5.0</td>\n",
       "      <td>42.0</td>\n",
       "      <td>2.4</td>\n",
       "      <td>0.0</td>\n",
       "      <td>...</td>\n",
       "      <td>12.0</td>\n",
       "      <td>2.0</td>\n",
       "      <td>133.0</td>\n",
       "      <td>130.0</td>\n",
       "      <td>133.0</td>\n",
       "      <td>24.0</td>\n",
       "      <td>0.0</td>\n",
       "      <td>0.0</td>\n",
       "      <td>1.0</td>\n",
       "      <td>0.0</td>\n",
       "    </tr>\n",
       "    <tr>\n",
       "      <th>1</th>\n",
       "      <td>1774.0</td>\n",
       "      <td>2250.0</td>\n",
       "      <td>145.0</td>\n",
       "      <td>145.0</td>\n",
       "      <td>7.0</td>\n",
       "      <td>4.0</td>\n",
       "      <td>1.0</td>\n",
       "      <td>43.0</td>\n",
       "      <td>1.5</td>\n",
       "      <td>0.0</td>\n",
       "      <td>...</td>\n",
       "      <td>5.0</td>\n",
       "      <td>0.0</td>\n",
       "      <td>156.0</td>\n",
       "      <td>156.0</td>\n",
       "      <td>158.0</td>\n",
       "      <td>11.0</td>\n",
       "      <td>1.0</td>\n",
       "      <td>0.0</td>\n",
       "      <td>0.0</td>\n",
       "      <td>1.0</td>\n",
       "    </tr>\n",
       "    <tr>\n",
       "      <th>2</th>\n",
       "      <td>346.0</td>\n",
       "      <td>1007.0</td>\n",
       "      <td>130.0</td>\n",
       "      <td>130.0</td>\n",
       "      <td>0.0</td>\n",
       "      <td>1.0</td>\n",
       "      <td>0.0</td>\n",
       "      <td>59.0</td>\n",
       "      <td>0.4</td>\n",
       "      <td>37.0</td>\n",
       "      <td>...</td>\n",
       "      <td>2.0</td>\n",
       "      <td>0.0</td>\n",
       "      <td>129.0</td>\n",
       "      <td>132.0</td>\n",
       "      <td>132.0</td>\n",
       "      <td>2.0</td>\n",
       "      <td>-1.0</td>\n",
       "      <td>1.0</td>\n",
       "      <td>0.0</td>\n",
       "      <td>0.0</td>\n",
       "    </tr>\n",
       "    <tr>\n",
       "      <th>3</th>\n",
       "      <td>1949.0</td>\n",
       "      <td>3256.0</td>\n",
       "      <td>133.0</td>\n",
       "      <td>133.0</td>\n",
       "      <td>0.0</td>\n",
       "      <td>0.0</td>\n",
       "      <td>13.0</td>\n",
       "      <td>61.0</td>\n",
       "      <td>2.8</td>\n",
       "      <td>0.0</td>\n",
       "      <td>...</td>\n",
       "      <td>4.0</td>\n",
       "      <td>0.0</td>\n",
       "      <td>125.0</td>\n",
       "      <td>95.0</td>\n",
       "      <td>103.0</td>\n",
       "      <td>95.0</td>\n",
       "      <td>0.0</td>\n",
       "      <td>0.0</td>\n",
       "      <td>1.0</td>\n",
       "      <td>0.0</td>\n",
       "    </tr>\n",
       "    <tr>\n",
       "      <th>4</th>\n",
       "      <td>1971.0</td>\n",
       "      <td>2847.0</td>\n",
       "      <td>125.0</td>\n",
       "      <td>125.0</td>\n",
       "      <td>0.0</td>\n",
       "      <td>0.0</td>\n",
       "      <td>8.0</td>\n",
       "      <td>65.0</td>\n",
       "      <td>1.3</td>\n",
       "      <td>0.0</td>\n",
       "      <td>...</td>\n",
       "      <td>5.0</td>\n",
       "      <td>1.0</td>\n",
       "      <td>116.0</td>\n",
       "      <td>111.0</td>\n",
       "      <td>116.0</td>\n",
       "      <td>8.0</td>\n",
       "      <td>0.0</td>\n",
       "      <td>0.0</td>\n",
       "      <td>1.0</td>\n",
       "      <td>0.0</td>\n",
       "    </tr>\n",
       "  </tbody>\n",
       "</table>\n",
       "<p>5 rows × 28 columns</p>\n",
       "</div>"
      ],
      "text/plain": [
       "        b       e    LBE     LB   AC   FM    UC  ASTV  MSTV  ALTV   ...    \\\n",
       "0   524.0  1189.0  128.0  128.0  5.0  0.0   5.0  42.0   2.4   0.0   ...     \n",
       "1  1774.0  2250.0  145.0  145.0  7.0  4.0   1.0  43.0   1.5   0.0   ...     \n",
       "2   346.0  1007.0  130.0  130.0  0.0  1.0   0.0  59.0   0.4  37.0   ...     \n",
       "3  1949.0  3256.0  133.0  133.0  0.0  0.0  13.0  61.0   2.8   0.0   ...     \n",
       "4  1971.0  2847.0  125.0  125.0  0.0  0.0   8.0  65.0   1.3   0.0   ...     \n",
       "\n",
       "   Nmax  Nzeros   Mode   Mean  Median  Variance  Tendency  (-1.0,)  (0.0,)  \\\n",
       "0  12.0     2.0  133.0  130.0   133.0      24.0       0.0      0.0     1.0   \n",
       "1   5.0     0.0  156.0  156.0   158.0      11.0       1.0      0.0     0.0   \n",
       "2   2.0     0.0  129.0  132.0   132.0       2.0      -1.0      1.0     0.0   \n",
       "3   4.0     0.0  125.0   95.0   103.0      95.0       0.0      0.0     1.0   \n",
       "4   5.0     1.0  116.0  111.0   116.0       8.0       0.0      0.0     1.0   \n",
       "\n",
       "   (1.0,)  \n",
       "0     0.0  \n",
       "1     1.0  \n",
       "2     0.0  \n",
       "3     0.0  \n",
       "4     0.0  \n",
       "\n",
       "[5 rows x 28 columns]"
      ]
     },
     "execution_count": 98,
     "metadata": {},
     "output_type": "execute_result"
    }
   ],
   "source": [
    "df_full.head()"
   ]
  },
  {
   "cell_type": "code",
   "execution_count": 99,
   "metadata": {},
   "outputs": [],
   "source": [
    "X_train_full = df_full.drop('Tendency', axis=1)"
   ]
  },
  {
   "cell_type": "code",
   "execution_count": 100,
   "metadata": {},
   "outputs": [],
   "source": [
    "encoded_test = enc.transform(X_test[['Tendency']]).toarray()"
   ]
  },
  {
   "cell_type": "code",
   "execution_count": 101,
   "metadata": {},
   "outputs": [],
   "source": [
    "one_hotted_test = pd.DataFrame(encoded_test, columns=enc.categories_)"
   ]
  },
  {
   "cell_type": "code",
   "execution_count": 102,
   "metadata": {},
   "outputs": [],
   "source": [
    "X_test = X_test.reset_index()\n",
    "X_test = X_test.drop('index', axis=1)\n",
    "\n",
    "df_full_test = pd.concat([X_test, one_hotted_test], axis=1)\n",
    "X_test_full = df_full_test.drop('Tendency', axis=1)"
   ]
  },
  {
   "cell_type": "code",
   "execution_count": 103,
   "metadata": {},
   "outputs": [],
   "source": [
    "from sklearn.preprocessing import StandardScaler\n",
    "ss = StandardScaler()\n",
    "scaled_X_train = ss.fit_transform(X_train_full)\n",
    "scaled_X_test = ss.transform(X_test_full)"
   ]
  },
  {
   "cell_type": "code",
   "execution_count": 104,
   "metadata": {},
   "outputs": [],
   "source": [
    "from sklearn.neighbors import KNeighborsClassifier\n",
    "from sklearn.model_selection import GridSearchCV"
   ]
  },
  {
   "cell_type": "code",
   "execution_count": 105,
   "metadata": {},
   "outputs": [],
   "source": [
    "param_grid = {\n",
    "    'n_neighbors': [5, 3, 10],\n",
    "    'p': [2, 3, 4],\n",
    "    'weights':['uniform', 'distance']\n",
    "} "
   ]
  },
  {
   "cell_type": "code",
   "execution_count": 106,
   "metadata": {},
   "outputs": [
    {
     "data": {
      "text/plain": [
       "{'n_neighbors': 5, 'p': 2, 'weights': 'distance'}"
      ]
     },
     "execution_count": 106,
     "metadata": {},
     "output_type": "execute_result"
    }
   ],
   "source": [
    "\n",
    "gscv = GridSearchCV(knn, param_grid=param_grid, cv=5)\n",
    "gscv.fit(X_train_full, y_train)\n",
    "best_params = gscv.best_params_\n",
    "best_params\n",
    "\n",
    "# preds_train = knn.predict(X_train_full)\n",
    "# preds_test = knn.predict(X_test_full)"
   ]
  },
  {
   "cell_type": "code",
   "execution_count": 107,
   "metadata": {},
   "outputs": [],
   "source": [
    "knn = KNeighborsClassifier(n_neighbors=5, p=2, weights='distance')\n",
    "knn.fit(X_train_full, y_train)\n",
    "preds_train = knn.predict(X_train_full)\n",
    "preds_test = knn.predict(X_test_full)\n"
   ]
  },
  {
   "cell_type": "code",
   "execution_count": 108,
   "metadata": {},
   "outputs": [],
   "source": [
    "from sklearn.metrics import accuracy_score, recall_score, precision_score, confusion_matrix "
   ]
  },
  {
   "cell_type": "code",
   "execution_count": 109,
   "metadata": {},
   "outputs": [],
   "source": [
    "acc_train = accuracy_score(y_train, preds_train)\n",
    "acc_test = accuracy_score(y_test, preds_test)\n",
    "rec_train = recall_score(y_train, preds_train, average='micro')\n",
    "rec_test = recall_score(y_test, preds_test, average='micro')\n",
    "prec_train = precision_score(y_train, preds_train, average='micro')\n",
    "prec_test = precision_score(y_test, preds_test, average='micro')\n",
    "cm = confusion_matrix(y_test, preds_test)"
   ]
  },
  {
   "cell_type": "code",
   "execution_count": 110,
   "metadata": {},
   "outputs": [
    {
     "name": "stdout",
     "output_type": "stream",
     "text": [
      "Training Accuracy: 0.9993726474278545\n",
      "Testing Accuracy: 0.8214285714285714\n",
      "Training Recall: 0.9993726474278545\n",
      "Testing Recall: 0.9993726474278545\n",
      "Training Precision: 0.9993726474278545\n",
      "Testing Precision: 0.8214285714285714\n"
     ]
    }
   ],
   "source": [
    "print(f'Training Accuracy: {acc_train}')\n",
    "print(f'Testing Accuracy: {acc_test}')\n",
    "print(f'Training Recall: {rec_train}')\n",
    "print(f'Testing Recall: {rec_train}')\n",
    "print(f'Training Precision: {prec_train}')\n",
    "print(f'Testing Precision: {prec_test}')\n"
   ]
  },
  {
   "cell_type": "code",
   "execution_count": 111,
   "metadata": {},
   "outputs": [],
   "source": [
    "df_confusion = pd.crosstab(y_test, preds_test, rownames=['True'], colnames=['Predicted'], margins=True)"
   ]
  },
  {
   "cell_type": "code",
   "execution_count": 112,
   "metadata": {},
   "outputs": [
    {
     "data": {
      "text/html": [
       "<div>\n",
       "<style scoped>\n",
       "    .dataframe tbody tr th:only-of-type {\n",
       "        vertical-align: middle;\n",
       "    }\n",
       "\n",
       "    .dataframe tbody tr th {\n",
       "        vertical-align: top;\n",
       "    }\n",
       "\n",
       "    .dataframe thead th {\n",
       "        text-align: right;\n",
       "    }\n",
       "</style>\n",
       "<table border=\"1\" class=\"dataframe\">\n",
       "  <thead>\n",
       "    <tr style=\"text-align: right;\">\n",
       "      <th>Predicted</th>\n",
       "      <th>1.0</th>\n",
       "      <th>2.0</th>\n",
       "      <th>3.0</th>\n",
       "      <th>All</th>\n",
       "    </tr>\n",
       "    <tr>\n",
       "      <th>True</th>\n",
       "      <th></th>\n",
       "      <th></th>\n",
       "      <th></th>\n",
       "      <th></th>\n",
       "    </tr>\n",
       "  </thead>\n",
       "  <tbody>\n",
       "    <tr>\n",
       "      <th>1.0</th>\n",
       "      <td>399</td>\n",
       "      <td>15</td>\n",
       "      <td>3</td>\n",
       "      <td>417</td>\n",
       "    </tr>\n",
       "    <tr>\n",
       "      <th>2.0</th>\n",
       "      <td>44</td>\n",
       "      <td>26</td>\n",
       "      <td>2</td>\n",
       "      <td>72</td>\n",
       "    </tr>\n",
       "    <tr>\n",
       "      <th>3.0</th>\n",
       "      <td>27</td>\n",
       "      <td>4</td>\n",
       "      <td>12</td>\n",
       "      <td>43</td>\n",
       "    </tr>\n",
       "    <tr>\n",
       "      <th>All</th>\n",
       "      <td>470</td>\n",
       "      <td>45</td>\n",
       "      <td>17</td>\n",
       "      <td>532</td>\n",
       "    </tr>\n",
       "  </tbody>\n",
       "</table>\n",
       "</div>"
      ],
      "text/plain": [
       "Predicted  1.0  2.0  3.0  All\n",
       "True                         \n",
       "1.0        399   15    3  417\n",
       "2.0         44   26    2   72\n",
       "3.0         27    4   12   43\n",
       "All        470   45   17  532"
      ]
     },
     "execution_count": 112,
     "metadata": {},
     "output_type": "execute_result"
    }
   ],
   "source": [
    "df_confusion"
   ]
  },
  {
   "cell_type": "markdown",
   "metadata": {},
   "source": [
    "# Decision Tree"
   ]
  },
  {
   "cell_type": "code",
   "execution_count": 113,
   "metadata": {},
   "outputs": [],
   "source": [
    "from sklearn.tree import DecisionTreeClassifier"
   ]
  },
  {
   "cell_type": "code",
   "execution_count": 114,
   "metadata": {},
   "outputs": [],
   "source": [
    "dec_tree = DecisionTreeClassifier(max_depth=5)"
   ]
  },
  {
   "cell_type": "code",
   "execution_count": 115,
   "metadata": {},
   "outputs": [],
   "source": [
    "dec_tree.fit(X_train_full, y_train)\n",
    "y_train_hat = dec_tree.predict(X_train_full)\n",
    "y_test_hat = dec_tree.predict(X_test_full)"
   ]
  },
  {
   "cell_type": "code",
   "execution_count": 118,
   "metadata": {},
   "outputs": [],
   "source": [
    "acc_train = accuracy_score(y_train, y_train_hat)\n",
    "acc_test = accuracy_score(y_test, y_test_hat)\n",
    "rec_train = recall_score(y_train, y_train_hat, average='micro')\n",
    "rec_test = recall_score(y_test, y_test_hat, average='micro')\n",
    "prec_train = precision_score(y_train, y_train_hat, average='micro')\n",
    "prec_test = precision_score(y_test, y_test_hat, average='micro')\n",
    "cm = confusion_matrix(y_test, y_test_hat)"
   ]
  },
  {
   "cell_type": "code",
   "execution_count": 119,
   "metadata": {},
   "outputs": [
    {
     "name": "stdout",
     "output_type": "stream",
     "text": [
      "Training Accuracy: 0.9347553324968633\n",
      "Testing Accuracy: 0.9285714285714286\n",
      "Training Recall: 0.9347553324968633\n",
      "Testing Recall: 0.9347553324968633\n",
      "Training Precision: 0.9347553324968633\n",
      "Testing Precision: 0.9285714285714286\n"
     ]
    }
   ],
   "source": [
    "print(f'Training Accuracy: {acc_train}')\n",
    "print(f'Testing Accuracy: {acc_test}')\n",
    "print(f'Training Recall: {rec_train}')\n",
    "print(f'Testing Recall: {rec_train}')\n",
    "print(f'Training Precision: {prec_train}')\n",
    "print(f'Testing Precision: {prec_test}')"
   ]
  },
  {
   "cell_type": "code",
   "execution_count": 120,
   "metadata": {},
   "outputs": [
    {
     "data": {
      "text/html": [
       "<div>\n",
       "<style scoped>\n",
       "    .dataframe tbody tr th:only-of-type {\n",
       "        vertical-align: middle;\n",
       "    }\n",
       "\n",
       "    .dataframe tbody tr th {\n",
       "        vertical-align: top;\n",
       "    }\n",
       "\n",
       "    .dataframe thead th {\n",
       "        text-align: right;\n",
       "    }\n",
       "</style>\n",
       "<table border=\"1\" class=\"dataframe\">\n",
       "  <thead>\n",
       "    <tr style=\"text-align: right;\">\n",
       "      <th>Predicted</th>\n",
       "      <th>1.0</th>\n",
       "      <th>2.0</th>\n",
       "      <th>3.0</th>\n",
       "      <th>All</th>\n",
       "    </tr>\n",
       "    <tr>\n",
       "      <th>True</th>\n",
       "      <th></th>\n",
       "      <th></th>\n",
       "      <th></th>\n",
       "      <th></th>\n",
       "    </tr>\n",
       "  </thead>\n",
       "  <tbody>\n",
       "    <tr>\n",
       "      <th>1.0</th>\n",
       "      <td>409</td>\n",
       "      <td>6</td>\n",
       "      <td>2</td>\n",
       "      <td>417</td>\n",
       "    </tr>\n",
       "    <tr>\n",
       "      <th>2.0</th>\n",
       "      <td>26</td>\n",
       "      <td>46</td>\n",
       "      <td>0</td>\n",
       "      <td>72</td>\n",
       "    </tr>\n",
       "    <tr>\n",
       "      <th>3.0</th>\n",
       "      <td>3</td>\n",
       "      <td>1</td>\n",
       "      <td>39</td>\n",
       "      <td>43</td>\n",
       "    </tr>\n",
       "    <tr>\n",
       "      <th>All</th>\n",
       "      <td>438</td>\n",
       "      <td>53</td>\n",
       "      <td>41</td>\n",
       "      <td>532</td>\n",
       "    </tr>\n",
       "  </tbody>\n",
       "</table>\n",
       "</div>"
      ],
      "text/plain": [
       "Predicted  1.0  2.0  3.0  All\n",
       "True                         \n",
       "1.0        409    6    2  417\n",
       "2.0         26   46    0   72\n",
       "3.0          3    1   39   43\n",
       "All        438   53   41  532"
      ]
     },
     "execution_count": 120,
     "metadata": {},
     "output_type": "execute_result"
    }
   ],
   "source": [
    "df_confusion = pd.crosstab(y_test, y_test_hat, rownames=['True'], colnames=['Predicted'], margins=True)\n",
    "df_confusion"
   ]
  },
  {
   "cell_type": "code",
   "execution_count": 121,
   "metadata": {},
   "outputs": [],
   "source": [
    "dt_clf = DecisionTreeClassifier()\n",
    "\n",
    "param_grid = {\n",
    "    'max_depth': [3, 5, 8],\n",
    "    'min_samples_split': [2, 4, 6],\n",
    "    'criterion': ['gini', 'entropy'],\n",
    "    'class_weight': [None, 'balanced']\n",
    "}\n",
    "\n",
    "gs_dt = GridSearchCV(dt_clf, param_grid, cv=5)"
   ]
  },
  {
   "cell_type": "code",
   "execution_count": 122,
   "metadata": {},
   "outputs": [
    {
     "data": {
      "text/plain": [
       "{'class_weight': None,\n",
       " 'criterion': 'entropy',\n",
       " 'max_depth': 8,\n",
       " 'min_samples_split': 6}"
      ]
     },
     "execution_count": 122,
     "metadata": {},
     "output_type": "execute_result"
    }
   ],
   "source": [
    "gs_dt.fit(X_train_full, y_train)\n",
    "best_params = gs_dt.best_params_\n",
    "best_params"
   ]
  },
  {
   "cell_type": "code",
   "execution_count": 123,
   "metadata": {},
   "outputs": [],
   "source": [
    "dt = DecisionTreeClassifier(class_weight=None, criterion='entropy', max_depth=8, min_samples_split=6)\n",
    "dt.fit(X_train_full, y_train)\n",
    "\n",
    "y_train_hat = dt.predict(X_train_full)\n",
    "y_test_hat = dt.predict(X_test_full)"
   ]
  },
  {
   "cell_type": "code",
   "execution_count": 124,
   "metadata": {},
   "outputs": [
    {
     "name": "stdout",
     "output_type": "stream",
     "text": [
      "Training Accuracy: 0.9761606022584692\n",
      "Testing Accuracy: 0.9266917293233082\n",
      "Training Recall: 0.9761606022584692\n",
      "Testing Recall: 0.9761606022584692\n",
      "Training Precision: 0.9761606022584692\n",
      "Testing Precision: 0.9266917293233082\n"
     ]
    }
   ],
   "source": [
    "acc_train = accuracy_score(y_train, y_train_hat)\n",
    "acc_test = accuracy_score(y_test, y_test_hat)\n",
    "rec_train = recall_score(y_train, y_train_hat, average='micro')\n",
    "rec_test = recall_score(y_test, y_test_hat, average='micro')\n",
    "prec_train = precision_score(y_train, y_train_hat, average='micro')\n",
    "prec_test = precision_score(y_test, y_test_hat, average='micro')\n",
    "cm = confusion_matrix(y_test, y_test_hat)\n",
    "\n",
    "print(f'Training Accuracy: {acc_train}')\n",
    "print(f'Testing Accuracy: {acc_test}')\n",
    "print(f'Training Recall: {rec_train}')\n",
    "print(f'Testing Recall: {rec_train}')\n",
    "print(f'Training Precision: {prec_train}')\n",
    "print(f'Testing Precision: {prec_test}')"
   ]
  },
  {
   "cell_type": "code",
   "execution_count": 125,
   "metadata": {},
   "outputs": [
    {
     "data": {
      "text/html": [
       "<div>\n",
       "<style scoped>\n",
       "    .dataframe tbody tr th:only-of-type {\n",
       "        vertical-align: middle;\n",
       "    }\n",
       "\n",
       "    .dataframe tbody tr th {\n",
       "        vertical-align: top;\n",
       "    }\n",
       "\n",
       "    .dataframe thead th {\n",
       "        text-align: right;\n",
       "    }\n",
       "</style>\n",
       "<table border=\"1\" class=\"dataframe\">\n",
       "  <thead>\n",
       "    <tr style=\"text-align: right;\">\n",
       "      <th>Predicted</th>\n",
       "      <th>1.0</th>\n",
       "      <th>2.0</th>\n",
       "      <th>3.0</th>\n",
       "      <th>All</th>\n",
       "    </tr>\n",
       "    <tr>\n",
       "      <th>True</th>\n",
       "      <th></th>\n",
       "      <th></th>\n",
       "      <th></th>\n",
       "      <th></th>\n",
       "    </tr>\n",
       "  </thead>\n",
       "  <tbody>\n",
       "    <tr>\n",
       "      <th>1.0</th>\n",
       "      <td>395</td>\n",
       "      <td>21</td>\n",
       "      <td>1</td>\n",
       "      <td>417</td>\n",
       "    </tr>\n",
       "    <tr>\n",
       "      <th>2.0</th>\n",
       "      <td>9</td>\n",
       "      <td>63</td>\n",
       "      <td>0</td>\n",
       "      <td>72</td>\n",
       "    </tr>\n",
       "    <tr>\n",
       "      <th>3.0</th>\n",
       "      <td>6</td>\n",
       "      <td>2</td>\n",
       "      <td>35</td>\n",
       "      <td>43</td>\n",
       "    </tr>\n",
       "    <tr>\n",
       "      <th>All</th>\n",
       "      <td>410</td>\n",
       "      <td>86</td>\n",
       "      <td>36</td>\n",
       "      <td>532</td>\n",
       "    </tr>\n",
       "  </tbody>\n",
       "</table>\n",
       "</div>"
      ],
      "text/plain": [
       "Predicted  1.0  2.0  3.0  All\n",
       "True                         \n",
       "1.0        395   21    1  417\n",
       "2.0          9   63    0   72\n",
       "3.0          6    2   35   43\n",
       "All        410   86   36  532"
      ]
     },
     "execution_count": 125,
     "metadata": {},
     "output_type": "execute_result"
    }
   ],
   "source": [
    "df_confusion = pd.crosstab(y_test, y_test_hat, rownames=['True'], colnames=['Predicted'], margins=True)\n",
    "df_confusion"
   ]
  },
  {
   "cell_type": "markdown",
   "metadata": {},
   "source": [
    "# PCA"
   ]
  },
  {
   "cell_type": "code",
   "execution_count": 129,
   "metadata": {},
   "outputs": [],
   "source": [
    "from sklearn.decomposition import PCA"
   ]
  },
  {
   "cell_type": "code",
   "execution_count": 131,
   "metadata": {},
   "outputs": [
    {
     "data": {
      "text/plain": [
       "array([[ 6.88766033e-01,  7.24966672e-01, -1.44889054e-04,\n",
       "        -1.44889054e-04,  6.73104131e-05, -3.49078994e-03,\n",
       "         7.31089604e-04, -1.19922801e-03,  4.16836930e-05,\n",
       "        -1.80585775e-03, -4.69742640e-04,  2.95506809e-04,\n",
       "         2.96023346e-06,  4.09579484e-05, -0.00000000e+00,\n",
       "        -1.18894452e-03,  4.76523318e-04, -7.12421201e-04,\n",
       "        -9.67575173e-05,  1.42679892e-05, -3.78818198e-04,\n",
       "        -1.15992051e-03, -8.27608452e-04,  1.60217740e-03,\n",
       "        -1.18017869e-05],\n",
       "       [-7.24535447e-01,  6.88470808e-01,  1.69278721e-03,\n",
       "         1.69278721e-03,  5.51583096e-03,  5.43004161e-03,\n",
       "         6.28526072e-03,  1.36899552e-02,  5.05644754e-05,\n",
       "         1.66874126e-03, -1.48956543e-04,  2.29741813e-03,\n",
       "         1.21579644e-06,  1.13666496e-04, -0.00000000e+00,\n",
       "         2.12369454e-02, -9.74859199e-03,  1.14883534e-02,\n",
       "         1.79737418e-03, -4.04852126e-05,  6.26711075e-03,\n",
       "         2.57227635e-03,  5.20529777e-03, -1.19162723e-03,\n",
       "         8.03763566e-05],\n",
       "       [ 1.37475269e-02, -1.24481719e-02, -5.37800577e-02,\n",
       "        -5.37800577e-02,  1.44096642e-02,  1.83200286e-01,\n",
       "         6.95847039e-03, -1.01899626e-01,  1.13425298e-02,\n",
       "        -1.74689497e-01,  7.77033837e-03,  2.47932071e-02,\n",
       "         8.82701638e-05,  3.32576359e-03, -0.00000000e+00,\n",
       "         6.72024350e-01, -4.93647161e-01,  1.78377190e-01,\n",
       "         3.81339547e-02,  3.86801309e-03, -1.07849058e-01,\n",
       "        -1.31367797e-01, -9.59241812e-02,  3.89430200e-01,\n",
       "         4.72659032e-04]])"
      ]
     },
     "execution_count": 131,
     "metadata": {},
     "output_type": "execute_result"
    }
   ],
   "source": [
    "pca = PCA(n_components=3)\n",
    "pca.fit(X_train)\n",
    "principal_comps = pca.transform(X_train)\n",
    "pca.components_"
   ]
  },
  {
   "cell_type": "code",
   "execution_count": 132,
   "metadata": {},
   "outputs": [],
   "source": [
    "comps = pd.DataFrame(principal_comps, columns=['PC1', 'PC2', 'PC3'])\n",
    "principal_comps_test = pca.transform(X_test)\n"
   ]
  },
  {
   "cell_type": "code",
   "execution_count": 133,
   "metadata": {},
   "outputs": [
    {
     "data": {
      "text/plain": [
       "KNeighborsClassifier(algorithm='auto', leaf_size=30, metric='minkowski',\n",
       "           metric_params=None, n_jobs=None, n_neighbors=5, p=2,\n",
       "           weights='distance')"
      ]
     },
     "execution_count": 133,
     "metadata": {},
     "output_type": "execute_result"
    }
   ],
   "source": [
    "knn_pca = KNeighborsClassifier(n_neighbors=5, p=2, weights='distance')\n",
    "knn_pca.fit(principal_comps, y_train)"
   ]
  },
  {
   "cell_type": "code",
   "execution_count": 136,
   "metadata": {},
   "outputs": [],
   "source": [
    "y_test_hat = knn_pca.predict(principal_comps_test)\n",
    "y_train_hat = knn_pca.predict(principal_comps)"
   ]
  },
  {
   "cell_type": "code",
   "execution_count": 137,
   "metadata": {},
   "outputs": [
    {
     "name": "stdout",
     "output_type": "stream",
     "text": [
      "Training Accuracy: 0.9993726474278545\n",
      "Testing Accuracy: 0.7650375939849624\n",
      "Training Recall: 0.9993726474278545\n",
      "Testing Recall: 0.9993726474278545\n",
      "Training Precision: 0.9993726474278545\n",
      "Testing Precision: 0.7650375939849624\n"
     ]
    }
   ],
   "source": [
    "acc_train = accuracy_score(y_train, y_train_hat)\n",
    "acc_test = accuracy_score(y_test, y_test_hat)\n",
    "rec_train = recall_score(y_train, y_train_hat, average='micro')\n",
    "rec_test = recall_score(y_test, y_test_hat, average='micro')\n",
    "prec_train = precision_score(y_train, y_train_hat, average='micro')\n",
    "prec_test = precision_score(y_test, y_test_hat, average='micro')\n",
    "cm = confusion_matrix(y_test, y_test_hat)\n",
    "\n",
    "print(f'Training Accuracy: {acc_train}')\n",
    "print(f'Testing Accuracy: {acc_test}')\n",
    "print(f'Training Recall: {rec_train}')\n",
    "print(f'Testing Recall: {rec_train}')\n",
    "print(f'Training Precision: {prec_train}')\n",
    "print(f'Testing Precision: {prec_test}')"
   ]
  },
  {
   "cell_type": "code",
   "execution_count": null,
   "metadata": {},
   "outputs": [],
   "source": []
  }
 ],
 "metadata": {
  "kernelspec": {
   "display_name": "learn-env",
   "language": "python",
   "name": "learn-env"
  },
  "language_info": {
   "codemirror_mode": {
    "name": "ipython",
    "version": 3
   },
   "file_extension": ".py",
   "mimetype": "text/x-python",
   "name": "python",
   "nbconvert_exporter": "python",
   "pygments_lexer": "ipython3",
   "version": "3.6.6"
  }
 },
 "nbformat": 4,
 "nbformat_minor": 2
}
