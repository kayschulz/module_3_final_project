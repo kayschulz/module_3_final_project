{
 "cells": [
  {
   "cell_type": "code",
   "execution_count": 1,
   "metadata": {},
   "outputs": [
    {
     "name": "stdout",
     "output_type": "stream",
     "text": [
      "Archive:  medicaldata.zip\r\n",
      "  inflating: data.csv                \r\n"
     ]
    }
   ],
   "source": [
    "! unzip medicaldata.zip"
   ]
  },
  {
   "cell_type": "code",
   "execution_count": 2,
   "metadata": {},
   "outputs": [
    {
     "name": "stdout",
     "output_type": "stream",
     "text": [
      "EDA.ipynb                           data.csv\r\n",
      "GSE22220-GPL6098_series_matrix.txt  import_data.ipynb\r\n",
      "GSE47051_series_matrix.txt          medicaldata.zip\r\n",
      "README.md\r\n"
     ]
    }
   ],
   "source": [
    "ls"
   ]
  },
  {
   "cell_type": "code",
   "execution_count": 3,
   "metadata": {},
   "outputs": [],
   "source": [
    "import pandas as pd"
   ]
  },
  {
   "cell_type": "code",
   "execution_count": 4,
   "metadata": {},
   "outputs": [],
   "source": [
    "data = pd.read_csv('data.csv')"
   ]
  },
  {
   "cell_type": "code",
   "execution_count": 5,
   "metadata": {},
   "outputs": [
    {
     "data": {
      "text/html": [
       "<div>\n",
       "<style scoped>\n",
       "    .dataframe tbody tr th:only-of-type {\n",
       "        vertical-align: middle;\n",
       "    }\n",
       "\n",
       "    .dataframe tbody tr th {\n",
       "        vertical-align: top;\n",
       "    }\n",
       "\n",
       "    .dataframe thead th {\n",
       "        text-align: right;\n",
       "    }\n",
       "</style>\n",
       "<table border=\"1\" class=\"dataframe\">\n",
       "  <thead>\n",
       "    <tr style=\"text-align: right;\">\n",
       "      <th></th>\n",
       "      <th>id</th>\n",
       "      <th>gender</th>\n",
       "      <th>dob</th>\n",
       "      <th>zipcode</th>\n",
       "      <th>employment_status</th>\n",
       "      <th>education</th>\n",
       "      <th>marital_status</th>\n",
       "      <th>children</th>\n",
       "      <th>ancestry</th>\n",
       "      <th>avg_commute</th>\n",
       "      <th>daily_internet_use</th>\n",
       "      <th>available_vehicles</th>\n",
       "      <th>military_service</th>\n",
       "      <th>disease</th>\n",
       "    </tr>\n",
       "  </thead>\n",
       "  <tbody>\n",
       "    <tr>\n",
       "      <th>0</th>\n",
       "      <td>Amelia Nixon</td>\n",
       "      <td>female</td>\n",
       "      <td>1944-03-09</td>\n",
       "      <td>89136</td>\n",
       "      <td>retired</td>\n",
       "      <td>bachelors</td>\n",
       "      <td>married</td>\n",
       "      <td>1</td>\n",
       "      <td>Portugal</td>\n",
       "      <td>13.38</td>\n",
       "      <td>2.53</td>\n",
       "      <td>2</td>\n",
       "      <td>no</td>\n",
       "      <td>hypertension</td>\n",
       "    </tr>\n",
       "    <tr>\n",
       "      <th>1</th>\n",
       "      <td>Clara Hicks</td>\n",
       "      <td>female</td>\n",
       "      <td>1966-07-02</td>\n",
       "      <td>94105</td>\n",
       "      <td>employed</td>\n",
       "      <td>phd/md</td>\n",
       "      <td>married</td>\n",
       "      <td>4</td>\n",
       "      <td>Sweden</td>\n",
       "      <td>15.16</td>\n",
       "      <td>6.77</td>\n",
       "      <td>2</td>\n",
       "      <td>no</td>\n",
       "      <td>endometriosis</td>\n",
       "    </tr>\n",
       "    <tr>\n",
       "      <th>2</th>\n",
       "      <td>Mason Brown</td>\n",
       "      <td>male</td>\n",
       "      <td>1981-05-31</td>\n",
       "      <td>89127</td>\n",
       "      <td>employed</td>\n",
       "      <td>masters</td>\n",
       "      <td>married</td>\n",
       "      <td>2</td>\n",
       "      <td>Germany</td>\n",
       "      <td>23.60</td>\n",
       "      <td>3.63</td>\n",
       "      <td>1</td>\n",
       "      <td>no</td>\n",
       "      <td>prostate cancer</td>\n",
       "    </tr>\n",
       "    <tr>\n",
       "      <th>3</th>\n",
       "      <td>Michael Rice</td>\n",
       "      <td>male</td>\n",
       "      <td>1945-02-13</td>\n",
       "      <td>44101</td>\n",
       "      <td>retired</td>\n",
       "      <td>bachelors</td>\n",
       "      <td>married</td>\n",
       "      <td>2</td>\n",
       "      <td>Denmark</td>\n",
       "      <td>19.61</td>\n",
       "      <td>5.00</td>\n",
       "      <td>3</td>\n",
       "      <td>no</td>\n",
       "      <td>multiple sclerosis</td>\n",
       "    </tr>\n",
       "    <tr>\n",
       "      <th>4</th>\n",
       "      <td>Eleanor Ritter</td>\n",
       "      <td>female</td>\n",
       "      <td>1939-09-03</td>\n",
       "      <td>89136</td>\n",
       "      <td>retired</td>\n",
       "      <td>masters</td>\n",
       "      <td>married</td>\n",
       "      <td>3</td>\n",
       "      <td>Austria</td>\n",
       "      <td>36.55</td>\n",
       "      <td>7.75</td>\n",
       "      <td>1</td>\n",
       "      <td>no</td>\n",
       "      <td>skin cancer</td>\n",
       "    </tr>\n",
       "  </tbody>\n",
       "</table>\n",
       "</div>"
      ],
      "text/plain": [
       "               id  gender         dob  zipcode employment_status  education  \\\n",
       "0    Amelia Nixon  female  1944-03-09    89136           retired  bachelors   \n",
       "1     Clara Hicks  female  1966-07-02    94105          employed     phd/md   \n",
       "2     Mason Brown    male  1981-05-31    89127          employed    masters   \n",
       "3    Michael Rice    male  1945-02-13    44101           retired  bachelors   \n",
       "4  Eleanor Ritter  female  1939-09-03    89136           retired    masters   \n",
       "\n",
       "  marital_status  children  ancestry  avg_commute  daily_internet_use  \\\n",
       "0        married         1  Portugal        13.38                2.53   \n",
       "1        married         4    Sweden        15.16                6.77   \n",
       "2        married         2   Germany        23.60                3.63   \n",
       "3        married         2   Denmark        19.61                5.00   \n",
       "4        married         3   Austria        36.55                7.75   \n",
       "\n",
       "   available_vehicles military_service             disease  \n",
       "0                   2               no        hypertension  \n",
       "1                   2               no       endometriosis  \n",
       "2                   1               no     prostate cancer  \n",
       "3                   3               no  multiple sclerosis  \n",
       "4                   1               no         skin cancer  "
      ]
     },
     "execution_count": 5,
     "metadata": {},
     "output_type": "execute_result"
    }
   ],
   "source": [
    "data.head()"
   ]
  },
  {
   "cell_type": "code",
   "execution_count": 6,
   "metadata": {},
   "outputs": [],
   "source": [
    "label = data['disease']"
   ]
  },
  {
   "cell_type": "code",
   "execution_count": 8,
   "metadata": {},
   "outputs": [],
   "source": [
    "features = data.drop('disease', axis=1)"
   ]
  },
  {
   "cell_type": "code",
   "execution_count": null,
   "metadata": {},
   "outputs": [],
   "source": []
  }
 ],
 "metadata": {
  "kernelspec": {
   "display_name": "learn-env",
   "language": "python",
   "name": "learn-env"
  },
  "language_info": {
   "codemirror_mode": {
    "name": "ipython",
    "version": 3
   },
   "file_extension": ".py",
   "mimetype": "text/x-python",
   "name": "python",
   "nbconvert_exporter": "python",
   "pygments_lexer": "ipython3",
   "version": "3.6.6"
  }
 },
 "nbformat": 4,
 "nbformat_minor": 2
}
